{
  "nbformat": 4,
  "nbformat_minor": 0,
  "metadata": {
    "colab": {
      "name": "Text summarizer",
      "provenance": [],
      "collapsed_sections": [],
      "authorship_tag": "ABX9TyN+HOFJhhtn92jaRjJ1o7uG",
      "include_colab_link": true
    },
    "kernelspec": {
      "name": "python3",
      "display_name": "Python 3"
    },
    "language_info": {
      "name": "python"
    },
    "accelerator": "GPU"
  },
  "cells": [
    {
      "cell_type": "markdown",
      "metadata": {
        "id": "view-in-github",
        "colab_type": "text"
      },
      "source": [
        "<a href=\"https://colab.research.google.com/github/redLoneWolf/TextSummarizer/blob/main/Text_summarizer.ipynb\" target=\"_parent\"><img src=\"https://colab.research.google.com/assets/colab-badge.svg\" alt=\"Open In Colab\"/></a>"
      ]
    },
    {
      "cell_type": "markdown",
      "metadata": {
        "id": "lUFjyJgw3Ku_"
      },
      "source": [
        "**Text Summarizer using Huggingface Transformers library with Flask**"
      ]
    },
    {
      "cell_type": "code",
      "metadata": {
        "id": "Mxf1vqUDKXSo"
      },
      "source": [
        "!git clone https://github.com/redLoneWolf/TextSummarizer.git"
      ],
      "execution_count": null,
      "outputs": []
    },
    {
      "cell_type": "code",
      "metadata": {
        "id": "hbQb9sj4PEGI",
        "colab": {
          "base_uri": "https://localhost:8080/"
        },
        "outputId": "1c82780c-806e-4e78-ebce-c80541873789"
      },
      "source": [
        "%cd TextSummarizer"
      ],
      "execution_count": 13,
      "outputs": [
        {
          "output_type": "stream",
          "text": [
            "/content/TextSummarizer\n"
          ],
          "name": "stdout"
        }
      ]
    },
    {
      "cell_type": "code",
      "metadata": {
        "id": "5FHit8X-I83A"
      },
      "source": [
        "!pip install -r requirements.txt"
      ],
      "execution_count": null,
      "outputs": []
    },
    {
      "cell_type": "code",
      "metadata": {
        "id": "aHM7rPz5JaZA"
      },
      "source": [
        "!python main.py"
      ],
      "execution_count": null,
      "outputs": []
    }
  ]
}