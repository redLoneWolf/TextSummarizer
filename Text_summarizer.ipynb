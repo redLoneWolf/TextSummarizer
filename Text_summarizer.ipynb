{
  "nbformat": 4,
  "nbformat_minor": 0,
  "metadata": {
    "colab": {
      "name": "Text summarizer",
      "provenance": [],
      "collapsed_sections": [],
      "authorship_tag": "ABX9TyNttX8Hzx+y8kxcoW4hDMVw",
      "include_colab_link": true
    },
    "kernelspec": {
      "name": "python3",
      "display_name": "Python 3"
    },
    "language_info": {
      "name": "python"
    },
    "accelerator": "GPU"
  },
  "cells": [
    {
      "cell_type": "markdown",
      "metadata": {
        "id": "view-in-github",
        "colab_type": "text"
      },
      "source": [
        "<a href=\"https://colab.research.google.com/github/redLoneWolf/TextSummarizer/blob/main/Text_summarizer.ipynb\" target=\"_parent\"><img src=\"https://colab.research.google.com/assets/colab-badge.svg\" alt=\"Open In Colab\"/></a>"
      ]
    },
    {
      "cell_type": "markdown",
      "metadata": {
        "id": "lUFjyJgw3Ku_"
      },
      "source": [
        "**Text Summarizer using Huggingface Transformers library with Flask**"
      ]
    },
    {
      "cell_type": "code",
      "metadata": {
        "id": "Mxf1vqUDKXSo",
        "colab": {
          "base_uri": "https://localhost:8080/"
        },
        "outputId": "69751142-86b3-4baf-c8cc-31b42056c91e"
      },
      "source": [
        "!git clone https://github.com/redLoneWolf/TextSummarizer.git"
      ],
      "execution_count": 1,
      "outputs": [
        {
          "output_type": "stream",
          "text": [
            "Cloning into 'TextSummarizer'...\n",
            "remote: Enumerating objects: 22, done.\u001b[K\n",
            "remote: Counting objects: 100% (22/22), done.\u001b[K\n",
            "remote: Compressing objects: 100% (20/20), done.\u001b[K\n",
            "remote: Total 22 (delta 6), reused 0 (delta 0), pack-reused 0\u001b[K\n",
            "Unpacking objects: 100% (22/22), done.\n"
          ],
          "name": "stdout"
        }
      ]
    },
    {
      "cell_type": "code",
      "metadata": {
        "id": "hbQb9sj4PEGI",
        "outputId": "1c82780c-806e-4e78-ebce-c80541873789",
        "colab": {
          "base_uri": "https://localhost:8080/"
        }
      },
      "source": [
        "%cd TextSummarizer"
      ],
      "execution_count": 13,
      "outputs": [
        {
          "output_type": "stream",
          "text": [
            "/content/TextSummarizer\n"
          ],
          "name": "stdout"
        }
      ]
    },
    {
      "cell_type": "code",
      "metadata": {
        "id": "4bYwlmQ8QfpJ",
        "outputId": "f16fdcbd-33ac-4f8d-f675-c0d4c405113a",
        "colab": {
          "base_uri": "https://localhost:8080/"
        }
      },
      "source": [
        "!ls"
      ],
      "execution_count": 14,
      "outputs": [
        {
          "output_type": "stream",
          "text": [
            "main.py  README.md  requirements.txt  templates  Text_summarizer.ipynb\n"
          ],
          "name": "stdout"
        }
      ]
    },
    {
      "cell_type": "code",
      "metadata": {
        "id": "5FHit8X-I83A",
        "colab": {
          "base_uri": "https://localhost:8080/"
        },
        "outputId": "fffb2444-c43c-4a3f-eef1-c64311c13513"
      },
      "source": [
        "!pip install -r requirements.txt"
      ],
      "execution_count": 6,
      "outputs": [
        {
          "output_type": "stream",
          "text": [
            "\u001b[31mERROR: Could not open requirements file: [Errno 2] No such file or directory: 'requirements.txt'\u001b[0m\n"
          ],
          "name": "stdout"
        }
      ]
    },
    {
      "cell_type": "code",
      "metadata": {
        "id": "aHM7rPz5JaZA",
        "colab": {
          "base_uri": "https://localhost:8080/"
        },
        "outputId": "39623b29-02b9-4585-a4b3-41cdf4faad2e"
      },
      "source": [
        "!python main.py"
      ],
      "execution_count": null,
      "outputs": [
        {
          "output_type": "stream",
          "text": [
            "^C\n"
          ],
          "name": "stdout"
        }
      ]
    }
  ]
}