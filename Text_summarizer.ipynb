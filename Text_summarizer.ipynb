{
  "nbformat": 4,
  "nbformat_minor": 0,
  "metadata": {
    "colab": {
      "name": "Text summarizer",
      "provenance": [],
      "collapsed_sections": [],
      "authorship_tag": "ABX9TyNru2gH2x3XQnaQWbYh72kR",
      "include_colab_link": true
    },
    "kernelspec": {
      "name": "python3",
      "display_name": "Python 3"
    },
    "language_info": {
      "name": "python"
    },
    "accelerator": "GPU"
  },
  "cells": [
    {
      "cell_type": "markdown",
      "metadata": {
        "id": "view-in-github",
        "colab_type": "text"
      },
      "source": [
        "<a href=\"https://colab.research.google.com/github/redLoneWolf/TextSummarizerWithVue/blob/main/Text_summarizer.ipynb\" target=\"_parent\"><img src=\"https://colab.research.google.com/assets/colab-badge.svg\" alt=\"Open In Colab\"/></a>"
      ]
    },
    {
      "cell_type": "markdown",
      "metadata": {
        "id": "lUFjyJgw3Ku_"
      },
      "source": [
        "**Text Summarizer using Huggingface Transformers library with Flask**"
      ]
    },
    {
      "cell_type": "code",
      "metadata": {
        "id": "T8HFKeNhvnWD"
      },
      "source": [
        "!pip install Flask                    # install dependencies\n",
        "!pip install flask-ngrok\n",
        "!pip install transformers"
      ],
      "execution_count": null,
      "outputs": []
    },
    {
      "cell_type": "code",
      "metadata": {
        "id": "L_rWtIwSxkQL"
      },
      "source": [
        "\n",
        "from flask import Flask,request,jsonify,render_template\n",
        "from flask_ngrok import run_with_ngrok\n",
        "from transformers import pipeline\n",
        "\n",
        "USE_GPU = True  # set true if using gpu runtime\n",
        "\n",
        "if USE_GPU:\n",
        "    summarizer = pipeline(\"summarization\",device=0)\n",
        "else:\n",
        "    summarizer = pipeline(\"summarization\")\n",
        "\n",
        "app = Flask(__name__,template_folder='/content')\n",
        "app.jinja_env.variable_start_string = '[['\n",
        "app.jinja_env.variable_end_string = ']]'\n",
        "run_with_ngrok(app)   \n",
        "#change if need\n",
        "DEFAULT_MAX = 150\n",
        "DEFAULT_MIN = 10\n",
        "  \n",
        "@app.route(\"/\")\n",
        "def home():\n",
        "    # return \"<h1> Test summarizer api </h1>\"\n",
        "    return render_template('index.html')\n",
        "\n",
        "@app.route(\"/help\")\n",
        "def help():\n",
        "  return jsonify(\n",
        "      {\n",
        "          \n",
        "      '/summary':{\n",
        "          'POST options':{\n",
        "              'text':'the text to be summarized',\n",
        "                'min':'minimum lenght the summarized text should be (optional) default:'+str(DEFAULT_MIN),\n",
        "                'max':'maximum lenght the summarized text should be (optional) default:'+str(DEFAULT_MAX)\n",
        "                },\n",
        "                 \n",
        "          'returns':{\n",
        "              'full_text':'the text you sent to summarize',\n",
        "                'min':'minimum lenght  of the summarized text that you sent',\n",
        "                'max':'maximum lenght  of the summarized text that you sent',\n",
        "                'summary':'summarized text'\n",
        "                }\n",
        "\n",
        "                  }\n",
        "       })\n",
        "\n",
        "@app.route('/summary', methods=['POST']) \n",
        "def summary(): \n",
        "  if request.method == 'POST': \n",
        "\n",
        "    # print (request.is_json)\n",
        "    content = request.get_json()\n",
        "    # print (content)\n",
        "    if 'full_text' in  content:\n",
        "        text = content.get('full_text')\n",
        "    else:\n",
        "      return jsonify({'error': 'need text parameter','for_help':request.host_url+'help'})\n",
        "\n",
        "    if 'min' in content:\n",
        "        min_length = int(content.get('min'))\n",
        "    else:\n",
        "        min_length = DEFAULT_MIN\n",
        "\n",
        "    if 'max' in content:\n",
        "        max_length = int(content.get('max'))\n",
        "    else:\n",
        "        max_length = DEFAULT_MAX\n",
        "\n",
        "    summarized = summarizer(text, min_length=min_length, max_length=max_length)\n",
        "    # return jsonify(content)\n",
        "\n",
        "    return jsonify({\n",
        "                    'full_text': text,\n",
        "                    'min_lenght':min_length,\n",
        "                    'max_length':max_length, \n",
        "                    'summary': summarized\n",
        "                    })\n",
        "    \n"
      ],
      "execution_count": 33,
      "outputs": []
    },
    {
      "cell_type": "code",
      "metadata": {
        "id": "3fn_SlOF9WW_"
      },
      "source": [
        "app.run()\n",
        "\n",
        "# get host from down ends with .ngrok.io\n",
        "# endpoints{\n",
        "#  /summary: post_params [text,max,min]  retruns [full_text,min_length,max_length]\n",
        "#   /help: returns endpoints\n",
        "#  }\n",
        "# use postman for testing\n",
        "# 🥱🥱"
      ],
      "execution_count": null,
      "outputs": []
    }
  ]
}